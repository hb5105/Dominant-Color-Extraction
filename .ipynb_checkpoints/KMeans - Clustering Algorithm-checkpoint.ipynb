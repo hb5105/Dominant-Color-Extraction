{
 "cells": [
  {
   "cell_type": "code",
   "execution_count": 34,
   "id": "572203ad",
   "metadata": {},
   "outputs": [],
   "source": [
    "#step one is to assign centres randomly\n",
    "#2 assigning cluster centres \n",
    "#3 update the cluster center\n",
    "#4 repeat the steps 23 to achieve convergence"
   ]
  },
  {
   "cell_type": "code",
   "execution_count": 35,
   "id": "7de15be9",
   "metadata": {},
   "outputs": [],
   "source": [
    "import numpy as np\n",
    "import pandas as pd\n",
    "import matplotlib.pyplot as plt"
   ]
  },
  {
   "cell_type": "code",
   "execution_count": 36,
   "id": "d512c242",
   "metadata": {},
   "outputs": [],
   "source": [
    "from sklearn.datasets import make_blobs"
   ]
  },
  {
   "cell_type": "code",
   "execution_count": 37,
   "id": "4ddd093e",
   "metadata": {},
   "outputs": [],
   "source": [
    "x,y=make_blobs(n_samples=1000,n_features=2,centers=5,random_state=10)"
   ]
  },
  {
   "cell_type": "code",
   "execution_count": 38,
   "id": "1c8ebcd2",
   "metadata": {},
   "outputs": [
    {
     "data": {
      "text/plain": [
       "<matplotlib.collections.PathCollection at 0x25cf4311f10>"
      ]
     },
     "execution_count": 38,
     "metadata": {},
     "output_type": "execute_result"
    },
    {
     "data": {
      "image/png": "[encoded data removed]",
      "text/plain": [
       "<Figure size 432x288 with 1 Axes>"
      ]
     },
     "metadata": {
      "needs_background": "light"
     },
     "output_type": "display_data"
    }
   ],
   "source": [
    "plt.scatter(x[:,0],x[:,1])"
   ]
  },
  {
   "cell_type": "code",
   "execution_count": 39,
   "id": "3c5484f5",
   "metadata": {},
   "outputs": [],
   "source": [
    "k=5\n",
    "colors =['green','red','yellow','blue','purple']\n",
    "\n",
    "clusters={}\n",
    "\n",
    "for each_cluster in range(k):\n",
    "    #step 1 initialise the centers randomly\n",
    "    center=10*(2*np.random.random((x.shape[1],))-1) #initial random center\n",
    "    \n",
    "    points=[]\n",
    "    \n",
    "    cluster={\n",
    "        'center':center,\n",
    "        \"points\":points,\n",
    "        'color':colors[each_cluster]\n",
    "    }\n",
    "    \n",
    "    clusters[each_cluster]=cluster\n"
   ]
  },
  {
   "cell_type": "code",
   "execution_count": 40,
   "id": "17d7d54f",
   "metadata": {},
   "outputs": [
    {
     "data": {
      "text/plain": [
       "array([7.60171661, 0.49719072])"
      ]
     },
     "execution_count": 40,
     "metadata": {},
     "output_type": "execute_result"
    }
   ],
   "source": [
    "10*(2*np.random.random((x.shape[1],))-1)"
   ]
  },
  {
   "cell_type": "code",
   "execution_count": 41,
   "id": "d4545844",
   "metadata": {},
   "outputs": [
    {
     "data": {
      "text/plain": [
       "{0: {'center': array([ 2.62450893, -2.18799182]),\n",
       "  'points': [],\n",
       "  'color': 'green'},\n",
       " 1: {'center': array([-5.19090208,  4.22129557]),\n",
       "  'points': [],\n",
       "  'color': 'red'},\n",
       " 2: {'center': array([-8.98293457, -9.35476837]),\n",
       "  'points': [],\n",
       "  'color': 'yellow'},\n",
       " 3: {'center': array([0.16964818, 7.57497945]), 'points': [], 'color': 'blue'},\n",
       " 4: {'center': array([6.53248543, 6.07943259]),\n",
       "  'points': [],\n",
       "  'color': 'purple'}}"
      ]
     },
     "execution_count": 41,
     "metadata": {},
     "output_type": "execute_result"
    }
   ],
   "source": [
    "clusters"
   ]
  },
  {
   "cell_type": "code",
   "execution_count": 42,
   "id": "14bddb36",
   "metadata": {},
   "outputs": [],
   "source": [
    "#step 2: find out the distance and assigning the points to cluster\n"
   ]
  },
  {
   "cell_type": "code",
   "execution_count": 43,
   "id": "0bc8da9d",
   "metadata": {},
   "outputs": [],
   "source": [
    "def distance(v1,v2):\n",
    "    return np.sqrt(np.sum((v1-v2)**2))"
   ]
  },
  {
   "cell_type": "code",
   "execution_count": 44,
   "id": "e181873c",
   "metadata": {},
   "outputs": [],
   "source": [
    "#assigning every data point to ont of the cluster\n",
    "#e-step- expectation step\n",
    "#k means is an expectation maximization algorithm\n",
    "\n",
    "def assignPointsToClusters(clusters):\n",
    "    dist=[]\n",
    "    for every_data_point in range(x.shape[0]):\n",
    "        dist=[]\n",
    "        for kx in range(k):\n",
    "            \n",
    "            d=distance(x[every_data_point],clusters[kx]['center'])\n",
    "            dist.append(d)\n",
    "        current_cluster=np.argmin(dist)\n",
    "        clusters[current_cluster]['points'].append(x[every_data_point])"
   ]
  },
  {
   "cell_type": "code",
   "execution_count": 55,
   "id": "5322f734",
   "metadata": {},
   "outputs": [],
   "source": [
    "#m-step maximisation step\n",
    "#update the clusters center by taking the mean\n",
    "\n",
    "def updateClusters(clusters):\n",
    "    \n",
    "    for kx in range(k):\n",
    "        pts=np.array(clusters[kx]['points'])\n",
    "        \n",
    "        if(pts.shape[0]>0):\n",
    "            \n",
    "            #we will find out the mean \n",
    "            new_u=pts.mean(axis=0)\n",
    "            clusters[kx]['center']=new_u\n",
    "            clusters[kx]['points']=[]"
   ]
  },
  {
   "cell_type": "code",
   "execution_count": 48,
   "id": "2910f6c5",
   "metadata": {},
   "outputs": [],
   "source": [
    "def plotClusters(clusters):\n",
    "    for kx in range(k):\n",
    "        pts=np.array(clusters[kx]['points'])\n",
    "        \n",
    "        if pts.shape[0]>0:\n",
    "            plt.scatter(pts[:,0],pts[:,1],color=clusters[kx]['color']) #plotting the cluster\n",
    "            \n",
    "        #plotting the center of the cluster\n",
    "        plt.scatter(clusters[kx]['center'][0],clusters[kx]['center'][1],color='black',marker='*')\n",
    "             "
   ]
  },
  {
   "cell_type": "code",
   "execution_count": 58,
   "id": "d6566463",
   "metadata": {},
   "outputs": [
    {
     "data": {
      "image/png": "[encoded data removed]",
      "text/plain": [
       "<Figure size 432x288 with 1 Axes>"
      ]
     },
     "metadata": {
      "needs_background": "light"
     },
     "output_type": "display_data"
    }
   ],
   "source": [
    "assignPointsToClusters(clusters)\n",
    "plotClusters(clusters)\n",
    "updateClusters(clusters)"
   ]
  },
  {
   "cell_type": "code",
   "execution_count": null,
   "id": "7d37f05a",
   "metadata": {},
   "outputs": [],
   "source": []
  }
 ],
 "metadata": {
  "kernelspec": {
   "display_name": "Python 3",
   "language": "python",
   "name": "python3"
  },
  "language_info": {
   "codemirror_mode": {
    "name": "ipython",
    "version": 3
   },
   "file_extension": ".py",
   "mimetype": "text/x-python",
   "name": "python",
   "nbconvert_exporter": "python",
   "pygments_lexer": "ipython3",
   "version": "3.9.6"
  }
 },
 "nbformat": 4,
 "nbformat_minor": 5
}
